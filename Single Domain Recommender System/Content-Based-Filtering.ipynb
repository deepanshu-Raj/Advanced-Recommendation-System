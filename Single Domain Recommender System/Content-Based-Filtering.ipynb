{
 "cells": [
  {
   "cell_type": "code",
   "execution_count": 2,
   "id": "c4df05b4",
   "metadata": {},
   "outputs": [
    {
     "name": "stdout",
     "output_type": "stream",
     "text": [
      "Import Successful!!\n"
     ]
    }
   ],
   "source": [
    "import pandas as pd\n",
    "import numpy as np\n",
    "print(\"Import Successful!!\")"
   ]
  },
  {
   "cell_type": "code",
   "execution_count": 3,
   "id": "46cb957a",
   "metadata": {},
   "outputs": [
    {
     "name": "stdout",
     "output_type": "stream",
     "text": [
      "Data Read Successful!!\n",
      "Data Shape : (4803, 4),(4803, 20)\n"
     ]
    }
   ],
   "source": [
    "df1 = pd.read_csv('Data-Asset/archive/tmdb_5000_credits.csv')\n",
    "df2 = pd.read_csv('Data-Asset/archive/tmdb_5000_movies.csv')\n",
    "\n",
    "print('Data Read Successful!!')\n",
    "print('Data Shape : {},{}'.format(df1.shape,df2.shape))"
   ]
  },
  {
   "cell_type": "code",
   "execution_count": 6,
   "id": "1ba27f94",
   "metadata": {},
   "outputs": [],
   "source": [
    "df1.columns = ['id','title_','cast','crew']\n",
    "df2= df2.merge(df1,on='id')"
   ]
  },
  {
   "cell_type": "markdown",
   "id": "068b5218",
   "metadata": {},
   "source": [
    "**We will compute pairwise similarity scores for all movies based on their plot descriptions and recommend movies based on that similarity score.**"
   ]
  },
  {
   "cell_type": "code",
   "execution_count": null,
   "id": "2d5a7548",
   "metadata": {},
   "outputs": [],
   "source": []
  }
 ],
 "metadata": {
  "kernelspec": {
   "display_name": "Python 3 (ipykernel)",
   "language": "python",
   "name": "python3"
  },
  "language_info": {
   "codemirror_mode": {
    "name": "ipython",
    "version": 3
   },
   "file_extension": ".py",
   "mimetype": "text/x-python",
   "name": "python",
   "nbconvert_exporter": "python",
   "pygments_lexer": "ipython3",
   "version": "3.9.6"
  }
 },
 "nbformat": 4,
 "nbformat_minor": 5
}
