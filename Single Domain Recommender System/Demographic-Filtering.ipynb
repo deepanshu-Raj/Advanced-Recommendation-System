{
 "cells": [
  {
   "cell_type": "code",
   "execution_count": 1,
   "id": "ea76004d",
   "metadata": {},
   "outputs": [
    {
     "name": "stdout",
     "output_type": "stream",
     "text": [
      "Import Successful\n"
     ]
    }
   ],
   "source": [
    "import pandas as pd\n",
    "import numpy as np\n",
    "import matplotlib.pyplot as plt\n",
    "\n",
    "\n",
    "print(\"Import Successful\")"
   ]
  },
  {
   "cell_type": "code",
   "execution_count": 2,
   "id": "da830e2d",
   "metadata": {},
   "outputs": [
    {
     "name": "stdout",
     "output_type": "stream",
     "text": [
      "Data Read!!\n",
      "Shapes : (4803, 4),(4803, 20)\n"
     ]
    }
   ],
   "source": [
    "df1 = pd.read_csv(\"Data-Asset/archive/tmdb_5000_credits.csv\")\n",
    "df2 = pd.read_csv(\"Data-Asset/archive/tmdb_5000_movies.csv\")\n",
    "\n",
    "print(\"Data Read!!\")\n",
    "print(\"Shapes : {},{}\".format(df1.shape,df2.shape))"
   ]
  },
  {
   "cell_type": "code",
   "execution_count": 3,
   "id": "88cb810e",
   "metadata": {},
   "outputs": [
    {
     "name": "stdout",
     "output_type": "stream",
     "text": [
      "Index(['movie_id', 'title', 'cast', 'crew'], dtype='object')\n",
      "Index(['budget', 'genres', 'homepage', 'id', 'keywords', 'original_language',\n",
      "       'original_title', 'overview', 'popularity', 'production_companies',\n",
      "       'production_countries', 'release_date', 'revenue', 'runtime',\n",
      "       'spoken_languages', 'status', 'tagline', 'title', 'vote_average',\n",
      "       'vote_count'],\n",
      "      dtype='object')\n"
     ]
    }
   ],
   "source": [
    "print(df1.columns)\n",
    "print(df2.columns)"
   ]
  },
  {
   "cell_type": "code",
   "execution_count": 4,
   "id": "c41e2e53",
   "metadata": {},
   "outputs": [],
   "source": [
    "df1.columns = ['id', 'title_', 'cast', 'crew']\n",
    "df2 = df2.merge(df1, on='id')"
   ]
  },
  {
   "cell_type": "code",
   "execution_count": 5,
   "id": "54027e43",
   "metadata": {},
   "outputs": [
    {
     "name": "stdout",
     "output_type": "stream",
     "text": [
      "6.092171559442016\n"
     ]
    }
   ],
   "source": [
    "C = df2[\"vote_average\"].mean()\n",
    "print(C)"
   ]
  },
  {
   "cell_type": "code",
   "execution_count": 6,
   "id": "a623f48b",
   "metadata": {},
   "outputs": [
    {
     "name": "stdout",
     "output_type": "stream",
     "text": [
      "1838.4000000000015\n"
     ]
    }
   ],
   "source": [
    "m = df2[\"vote_count\"].quantile(0.9)\n",
    "print(m)"
   ]
  },
  {
   "cell_type": "code",
   "execution_count": 7,
   "id": "96e82044",
   "metadata": {},
   "outputs": [
    {
     "data": {
      "text/plain": [
       "(481, 23)"
      ]
     },
     "execution_count": 7,
     "metadata": {},
     "output_type": "execute_result"
    }
   ],
   "source": [
    "q_movies = df2.copy().loc[df2[\"vote_count\"] >= m]\n",
    "q_movies.shape"
   ]
  },
  {
   "cell_type": "code",
   "execution_count": 8,
   "id": "2f9ca44c",
   "metadata": {},
   "outputs": [],
   "source": [
    "def weighted_rating(x,m=m,C=C):\n",
    "    \n",
    "    v = x[\"vote_count\"]\n",
    "    R = x[\"vote_average\"]\n",
    "    \n",
    "    return round((v/(v+m)*R) + (m/(m+v)*C),2)"
   ]
  },
  {
   "cell_type": "code",
   "execution_count": 9,
   "id": "98496864",
   "metadata": {},
   "outputs": [],
   "source": [
    "q_movies['score'] = q_movies.apply(weighted_rating,axis=1)"
   ]
  },
  {
   "cell_type": "code",
   "execution_count": null,
   "id": "0a219aad",
   "metadata": {},
   "outputs": [],
   "source": []
  },
  {
   "cell_type": "code",
   "execution_count": null,
   "id": "45291fdc",
   "metadata": {},
   "outputs": [],
   "source": []
  },
  {
   "cell_type": "code",
   "execution_count": null,
   "id": "562fd1a9",
   "metadata": {},
   "outputs": [],
   "source": []
  },
  {
   "cell_type": "code",
   "execution_count": null,
   "id": "3f1d04e0",
   "metadata": {},
   "outputs": [],
   "source": []
  },
  {
   "cell_type": "code",
   "execution_count": 10,
   "id": "ee9a306f",
   "metadata": {},
   "outputs": [],
   "source": [
    "q_movies = q_movies.sort_values('score',\n",
    "                                ascending=False)"
   ]
  },
  {
   "cell_type": "code",
   "execution_count": 11,
   "id": "52fb6351",
   "metadata": {},
   "outputs": [
    {
     "name": "stdout",
     "output_type": "stream",
     "text": [
      "Total Movies in the Dictionary : 481\n"
     ]
    }
   ],
   "source": [
    "f_list = []\n",
    "columns = ['title', 'score']\n",
    "for i in range(q_movies.shape[0]):\n",
    "    \n",
    "    f_list.append([q_movies[columns[0]].values[i],\n",
    "                   q_movies[columns[1]].values[i]])\n",
    "    \n",
    "print(\"Total Movies in the Dictionary : {}\".format(len(f_list)))"
   ]
  },
  {
   "cell_type": "code",
   "execution_count": 12,
   "id": "f69ba346",
   "metadata": {},
   "outputs": [],
   "source": [
    "def getTop10Recommendations(f_list):\n",
    "    \n",
    "    for i in range(10):\n",
    "        \n",
    "        print(\"#{} :\".format(i+1))\n",
    "        print(\"Movie Name : {}\".format(f_list[i][0]))\n",
    "        print(\"Weighted Ratings : {}\".format(f_list[i][1]))\n",
    "        print(\"------------------------\")"
   ]
  },
  {
   "cell_type": "code",
   "execution_count": 13,
   "id": "9495bfbc",
   "metadata": {},
   "outputs": [
    {
     "name": "stdout",
     "output_type": "stream",
     "text": [
      "#1 :\n",
      "Movie Name : The Shawshank Redemption\n",
      "Weighted Ratings : 8.06\n",
      "------------------------\n",
      "#2 :\n",
      "Movie Name : Fight Club\n",
      "Weighted Ratings : 7.94\n",
      "------------------------\n",
      "#3 :\n",
      "Movie Name : The Dark Knight\n",
      "Weighted Ratings : 7.92\n",
      "------------------------\n",
      "#4 :\n",
      "Movie Name : Pulp Fiction\n",
      "Weighted Ratings : 7.9\n",
      "------------------------\n",
      "#5 :\n",
      "Movie Name : Inception\n",
      "Weighted Ratings : 7.86\n",
      "------------------------\n",
      "#6 :\n",
      "Movie Name : The Godfather\n",
      "Weighted Ratings : 7.85\n",
      "------------------------\n",
      "#7 :\n",
      "Movie Name : Interstellar\n",
      "Weighted Ratings : 7.81\n",
      "------------------------\n",
      "#8 :\n",
      "Movie Name : Forrest Gump\n",
      "Weighted Ratings : 7.8\n",
      "------------------------\n",
      "#9 :\n",
      "Movie Name : The Lord of the Rings: The Return of the King\n",
      "Weighted Ratings : 7.73\n",
      "------------------------\n",
      "#10 :\n",
      "Movie Name : The Empire Strikes Back\n",
      "Weighted Ratings : 7.7\n",
      "------------------------\n"
     ]
    }
   ],
   "source": [
    "getTop10Recommendations(f_list)"
   ]
  },
  {
   "cell_type": "code",
   "execution_count": null,
   "id": "9313e6de",
   "metadata": {},
   "outputs": [],
   "source": []
  },
  {
   "cell_type": "code",
   "execution_count": null,
   "id": "cebceeb7",
   "metadata": {},
   "outputs": [],
   "source": []
  },
  {
   "cell_type": "code",
   "execution_count": null,
   "id": "84abbecd",
   "metadata": {},
   "outputs": [],
   "source": []
  },
  {
   "cell_type": "code",
   "execution_count": null,
   "id": "a57b54aa",
   "metadata": {},
   "outputs": [],
   "source": []
  },
  {
   "cell_type": "code",
   "execution_count": 21,
   "id": "1f87a861",
   "metadata": {},
   "outputs": [],
   "source": [
    "pop= df2.sort_values('popularity', ascending=False)"
   ]
  },
  {
   "cell_type": "code",
   "execution_count": 22,
   "id": "3d81503c",
   "metadata": {},
   "outputs": [],
   "source": [
    "msum = pop['popularity'].head(6).sum()\n",
    "def normalise(x):\n",
    "    \n",
    "    return x['popularity']/msum\n",
    "\n",
    "pop['popularity_score'] = pop.apply(normalise,\n",
    "                                    axis=1)"
   ]
  },
  {
   "cell_type": "code",
   "execution_count": 23,
   "id": "cfc91174",
   "metadata": {},
   "outputs": [
    {
     "name": "stdout",
     "output_type": "stream",
     "text": [
      "Total Movies in the Dictionary : 4803\n"
     ]
    }
   ],
   "source": [
    "f_list = []\n",
    "columns = ['title','popularity']\n",
    "\n",
    "for i in range(pop.shape[0]):\n",
    "    \n",
    "    f_list.append([pop[columns[0]].values[i],\n",
    "                   round(pop[columns[1]].values[i],2)])\n",
    "    \n",
    "print(\"Total Movies in the Dictionary : {}\".format(len(f_list)))"
   ]
  },
  {
   "cell_type": "code",
   "execution_count": 24,
   "id": "b3b3b391",
   "metadata": {},
   "outputs": [
    {
     "name": "stdout",
     "output_type": "stream",
     "text": [
      "#1 :\n",
      "Movie Name : Minions\n",
      "Weighted Ratings : 875.58\n",
      "------------------------\n",
      "#2 :\n",
      "Movie Name : Interstellar\n",
      "Weighted Ratings : 724.25\n",
      "------------------------\n",
      "#3 :\n",
      "Movie Name : Deadpool\n",
      "Weighted Ratings : 514.57\n",
      "------------------------\n",
      "#4 :\n",
      "Movie Name : Guardians of the Galaxy\n",
      "Weighted Ratings : 481.1\n",
      "------------------------\n",
      "#5 :\n",
      "Movie Name : Mad Max: Fury Road\n",
      "Weighted Ratings : 434.28\n",
      "------------------------\n",
      "#6 :\n",
      "Movie Name : Jurassic World\n",
      "Weighted Ratings : 418.71\n",
      "------------------------\n",
      "#7 :\n",
      "Movie Name : Pirates of the Caribbean: The Curse of the Black Pearl\n",
      "Weighted Ratings : 271.97\n",
      "------------------------\n",
      "#8 :\n",
      "Movie Name : Dawn of the Planet of the Apes\n",
      "Weighted Ratings : 243.79\n",
      "------------------------\n",
      "#9 :\n",
      "Movie Name : The Hunger Games: Mockingjay - Part 1\n",
      "Weighted Ratings : 206.23\n",
      "------------------------\n",
      "#10 :\n",
      "Movie Name : Big Hero 6\n",
      "Weighted Ratings : 203.73\n",
      "------------------------\n"
     ]
    }
   ],
   "source": [
    "getTop10Recommendations(f_list)"
   ]
  },
  {
   "cell_type": "code",
   "execution_count": 20,
   "id": "06d6c298",
   "metadata": {
    "collapsed": true
   },
   "outputs": [
    {
     "data": {
      "image/png": "[encoded data removed]",
      "text/plain": [
       "<Figure size 864x288 with 1 Axes>"
      ]
     },
     "metadata": {
      "needs_background": "light"
     },
     "output_type": "display_data"
    }
   ],
   "source": [
    "plt.figure(figsize=(12,4))\n",
    "\n",
    "plt.barh(pop['title'].head(6),pop['popularity'].head(6), align='center',\n",
    "        color='skyblue')\n",
    "plt.gca().invert_yaxis()\n",
    "plt.xlabel(\"Popularity\")\n",
    "plt.title(\"Popular Movies\")\n",
    "plt.grid()"
   ]
  },
  {
   "cell_type": "code",
   "execution_count": null,
   "id": "d76eb307",
   "metadata": {},
   "outputs": [],
   "source": []
  },
  {
   "cell_type": "code",
   "execution_count": null,
   "id": "3982d07b",
   "metadata": {},
   "outputs": [],
   "source": []
  },
  {
   "cell_type": "code",
   "execution_count": null,
   "id": "fdb37513",
   "metadata": {},
   "outputs": [],
   "source": []
  },
  {
   "cell_type": "code",
   "execution_count": null,
   "id": "1b4e5734",
   "metadata": {},
   "outputs": [],
   "source": []
  },
  {
   "cell_type": "code",
   "execution_count": null,
   "id": "955645d7",
   "metadata": {},
   "outputs": [],
   "source": []
  },
  {
   "cell_type": "code",
   "execution_count": null,
   "id": "3ac96cee",
   "metadata": {},
   "outputs": [],
   "source": []
  },
  {
   "cell_type": "code",
   "execution_count": 80,
   "id": "3be48943",
   "metadata": {},
   "outputs": [],
   "source": [
    "pop[['title','popularity']].to_csv('Data-Asset/pop.csv',index=False)"
   ]
  },
  {
   "cell_type": "code",
   "execution_count": 81,
   "id": "1d9c35e6",
   "metadata": {},
   "outputs": [],
   "source": [
    "q_movies[['title','score']].to_csv('Data-Asset/wt-rating.csv',index=False)"
   ]
  }
 ],
 "metadata": {
  "kernelspec": {
   "display_name": "Python 3 (ipykernel)",
   "language": "python",
   "name": "python3"
  },
  "language_info": {
   "codemirror_mode": {
    "name": "ipython",
    "version": 3
   },
   "file_extension": ".py",
   "mimetype": "text/x-python",
   "name": "python",
   "nbconvert_exporter": "python",
   "pygments_lexer": "ipython3",
   "version": "3.9.6"
  }
 },
 "nbformat": 4,
 "nbformat_minor": 5
}
