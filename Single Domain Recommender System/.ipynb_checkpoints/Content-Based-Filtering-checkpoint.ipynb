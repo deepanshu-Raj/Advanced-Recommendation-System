{
 "cells": [
  {
   "cell_type": "code",
   "execution_count": 1,
   "id": "c4df05b4",
   "metadata": {},
   "outputs": [
    {
     "name": "stdout",
     "output_type": "stream",
     "text": [
      "Import Successful!!\n"
     ]
    }
   ],
   "source": [
    "import pandas as pd\n",
    "import numpy as np\n",
    "print(\"Import Successful!!\")"
   ]
  },
  {
   "cell_type": "code",
   "execution_count": 2,
   "id": "46cb957a",
   "metadata": {},
   "outputs": [
    {
     "name": "stdout",
     "output_type": "stream",
     "text": [
      "Data Read Successful!!\n",
      "Data Shape : (4803, 4),(4803, 20)\n"
     ]
    }
   ],
   "source": [
    "df1 = pd.read_csv('Data-Asset/archive/tmdb_5000_credits.csv')\n",
    "df2 = pd.read_csv('Data-Asset/archive/tmdb_5000_movies.csv')\n",
    "\n",
    "print('Data Read Successful!!')\n",
    "print('Data Shape : {},{}'.format(df1.shape,df2.shape))"
   ]
  },
  {
   "cell_type": "code",
   "execution_count": 3,
   "id": "1ba27f94",
   "metadata": {},
   "outputs": [],
   "source": [
    "df1.columns = ['id','title_','cast','crew']\n",
    "df2= df2.merge(df1,on='id')"
   ]
  },
  {
   "cell_type": "markdown",
   "id": "068b5218",
   "metadata": {},
   "source": [
    "**We will compute pairwise similarity scores for all movies based on their plot descriptions and recommend movies based on that similarity score.**"
   ]
  },
  {
   "cell_type": "code",
   "execution_count": 4,
   "id": "2d5a7548",
   "metadata": {},
   "outputs": [
    {
     "data": {
      "text/plain": [
       "0    In the 22nd century, a paraplegic Marine is di...\n",
       "1    Captain Barbossa, long believed to be dead, ha...\n",
       "2    A cryptic message from Bond’s past sends him o...\n",
       "3    Following the death of District Attorney Harve...\n",
       "4    John Carter is a war-weary, former military ca...\n",
       "Name: overview, dtype: object"
      ]
     },
     "execution_count": 4,
     "metadata": {},
     "output_type": "execute_result"
    }
   ],
   "source": [
    "df2[\"overview\"].head()"
   ]
  },
  {
   "cell_type": "markdown",
   "id": "3a2a47c6",
   "metadata": {},
   "source": [
    "Now if you are wondering what is term frequency , it is the relative frequency of a word in a document and is given as **(term instances/total instances).** Inverse Document Frequency is the relative count of documents containing the term is given as **log(number of documents/documents with term)** The overall importance of each word to the documents in which they appear is equal to **TF * IDF**"
   ]
  },
  {
   "cell_type": "code",
   "execution_count": 5,
   "id": "4c9bad02",
   "metadata": {},
   "outputs": [
    {
     "name": "stdout",
     "output_type": "stream",
     "text": [
      "Matrix Shape : (4803, 20978)\n"
     ]
    }
   ],
   "source": [
    "from sklearn.feature_extraction.text import TfidfVectorizer\n",
    "\n",
    "tfidf = TfidfVectorizer(stop_words='english')\n",
    "df2['overview'] = df2['overview'].fillna('')\n",
    "\n",
    "tfidf_matrix = tfidf.fit_transform(df2['overview'])\n",
    "\n",
    "print(\"Matrix Shape : {}\".format(tfidf_matrix.shape))"
   ]
  },
  {
   "cell_type": "code",
   "execution_count": 6,
   "id": "47daffdb",
   "metadata": {},
   "outputs": [
    {
     "name": "stdout",
     "output_type": "stream",
     "text": [
      "Shape : (4803, 4803)\n"
     ]
    }
   ],
   "source": [
    "from sklearn.metrics.pairwise import linear_kernel\n",
    "\n",
    "cosine_sim = linear_kernel(tfidf_matrix, tfidf_matrix)\n",
    "print(\"Shape : {}\".format((len(cosine_sim),len(cosine_sim))))"
   ]
  },
  {
   "cell_type": "code",
   "execution_count": 7,
   "id": "6830ac94",
   "metadata": {},
   "outputs": [
    {
     "name": "stdout",
     "output_type": "stream",
     "text": [
      "title\n",
      "Avatar                                      0\n",
      "Pirates of the Caribbean: At World's End    1\n",
      "Spectre                                     2\n",
      "The Dark Knight Rises                       3\n",
      "John Carter                                 4\n",
      "dtype: int64\n"
     ]
    }
   ],
   "source": [
    "indices = pd.Series(df2.index,\n",
    "                    index = df2[\"title\"]).drop_duplicates()\n",
    "print(indices.head())"
   ]
  },
  {
   "cell_type": "code",
   "execution_count": 8,
   "id": "425e3bb4",
   "metadata": {},
   "outputs": [],
   "source": [
    "def get_recommendations(title,\n",
    "                        cosine_sim=cosine_sim):\n",
    "    \n",
    "    idx = indices[title]\n",
    "    sim_scores = list(enumerate(cosine_sim[idx]))\n",
    "    sim_scores = sorted(sim_scores, key= lambda x: x[1], reverse=True)\n",
    "    \n",
    "    sim_scores = sim_scores[1:11]\n",
    "    \n",
    "    movie_indices = [i[0] for i in sim_scores]\n",
    "    return df2['title'].iloc[movie_indices]"
   ]
  },
  {
   "cell_type": "code",
   "execution_count": 52,
   "id": "8a9398fd",
   "metadata": {},
   "outputs": [
    {
     "data": {
      "text/html": [
       "<div>\n",
       "<style scoped>\n",
       "    .dataframe tbody tr th:only-of-type {\n",
       "        vertical-align: middle;\n",
       "    }\n",
       "\n",
       "    .dataframe tbody tr th {\n",
       "        vertical-align: top;\n",
       "    }\n",
       "\n",
       "    .dataframe thead th {\n",
       "        text-align: right;\n",
       "    }\n",
       "</style>\n",
       "<table border=\"1\" class=\"dataframe\">\n",
       "  <thead>\n",
       "    <tr style=\"text-align: right;\">\n",
       "      <th></th>\n",
       "      <th>title</th>\n",
       "      <th>director_</th>\n",
       "      <th>genres</th>\n",
       "    </tr>\n",
       "  </thead>\n",
       "  <tbody>\n",
       "    <tr>\n",
       "      <th>65</th>\n",
       "      <td>The Dark Knight</td>\n",
       "      <td>Christopher Nolan</td>\n",
       "      <td>[drama, action, crime]</td>\n",
       "    </tr>\n",
       "    <tr>\n",
       "      <th>299</th>\n",
       "      <td>Batman Forever</td>\n",
       "      <td>Joel Schumacher</td>\n",
       "      <td>[action, crime, fantasy]</td>\n",
       "    </tr>\n",
       "    <tr>\n",
       "      <th>428</th>\n",
       "      <td>Batman Returns</td>\n",
       "      <td>Tim Burton</td>\n",
       "      <td>[action, fantasy]</td>\n",
       "    </tr>\n",
       "    <tr>\n",
       "      <th>1359</th>\n",
       "      <td>Batman</td>\n",
       "      <td>Tim Burton</td>\n",
       "      <td>[fantasy, action]</td>\n",
       "    </tr>\n",
       "    <tr>\n",
       "      <th>3854</th>\n",
       "      <td>Batman: The Dark Knight Returns, Part 2</td>\n",
       "      <td>Jay Oliva</td>\n",
       "      <td>[action, animation]</td>\n",
       "    </tr>\n",
       "    <tr>\n",
       "      <th>119</th>\n",
       "      <td>Batman Begins</td>\n",
       "      <td>Christopher Nolan</td>\n",
       "      <td>[action, crime, drama]</td>\n",
       "    </tr>\n",
       "    <tr>\n",
       "      <th>2507</th>\n",
       "      <td>Slow Burn</td>\n",
       "      <td>Wayne Beach</td>\n",
       "      <td>[mystery, crime, drama]</td>\n",
       "    </tr>\n",
       "    <tr>\n",
       "      <th>9</th>\n",
       "      <td>Batman v Superman: Dawn of Justice</td>\n",
       "      <td>Zack Snyder</td>\n",
       "      <td>[action, adventure, fantasy]</td>\n",
       "    </tr>\n",
       "    <tr>\n",
       "      <th>1181</th>\n",
       "      <td>JFK</td>\n",
       "      <td>Oliver Stone</td>\n",
       "      <td>[drama, thriller, history]</td>\n",
       "    </tr>\n",
       "    <tr>\n",
       "      <th>210</th>\n",
       "      <td>Batman &amp; Robin</td>\n",
       "      <td>Joel Schumacher</td>\n",
       "      <td>[action, crime, fantasy]</td>\n",
       "    </tr>\n",
       "  </tbody>\n",
       "</table>\n",
       "</div>"
      ],
      "text/plain": [
       "                                        title          director_  \\\n",
       "65                            The Dark Knight  Christopher Nolan   \n",
       "299                            Batman Forever    Joel Schumacher   \n",
       "428                            Batman Returns         Tim Burton   \n",
       "1359                                   Batman         Tim Burton   \n",
       "3854  Batman: The Dark Knight Returns, Part 2          Jay Oliva   \n",
       "119                             Batman Begins  Christopher Nolan   \n",
       "2507                                Slow Burn        Wayne Beach   \n",
       "9          Batman v Superman: Dawn of Justice        Zack Snyder   \n",
       "1181                                      JFK       Oliver Stone   \n",
       "210                            Batman & Robin    Joel Schumacher   \n",
       "\n",
       "                            genres  \n",
       "65          [drama, action, crime]  \n",
       "299       [action, crime, fantasy]  \n",
       "428              [action, fantasy]  \n",
       "1359             [fantasy, action]  \n",
       "3854           [action, animation]  \n",
       "119         [action, crime, drama]  \n",
       "2507       [mystery, crime, drama]  \n",
       "9     [action, adventure, fantasy]  \n",
       "1181    [drama, thriller, history]  \n",
       "210       [action, crime, fantasy]  "
      ]
     },
     "execution_count": 52,
     "metadata": {},
     "output_type": "execute_result"
    }
   ],
   "source": [
    "df2[['title',\n",
    "     'director_',\n",
    "     'genres']].loc[list(get_recommendations('The Dark Knight Rises').index)]"
   ]
  },
  {
   "cell_type": "code",
   "execution_count": 51,
   "id": "86b7e64a",
   "metadata": {},
   "outputs": [
    {
     "data": {
      "text/html": [
       "<div>\n",
       "<style scoped>\n",
       "    .dataframe tbody tr th:only-of-type {\n",
       "        vertical-align: middle;\n",
       "    }\n",
       "\n",
       "    .dataframe tbody tr th {\n",
       "        vertical-align: top;\n",
       "    }\n",
       "\n",
       "    .dataframe thead th {\n",
       "        text-align: right;\n",
       "    }\n",
       "</style>\n",
       "<table border=\"1\" class=\"dataframe\">\n",
       "  <thead>\n",
       "    <tr style=\"text-align: right;\">\n",
       "      <th></th>\n",
       "      <th>title</th>\n",
       "      <th>director_</th>\n",
       "      <th>genres</th>\n",
       "    </tr>\n",
       "  </thead>\n",
       "  <tbody>\n",
       "    <tr>\n",
       "      <th>7</th>\n",
       "      <td>Avengers: Age of Ultron</td>\n",
       "      <td>Joss Whedon</td>\n",
       "      <td>[action, adventure, sciencefiction]</td>\n",
       "    </tr>\n",
       "    <tr>\n",
       "      <th>3144</th>\n",
       "      <td>Plastic</td>\n",
       "      <td>Julian Gilbey</td>\n",
       "      <td>[drama, action, comedy]</td>\n",
       "    </tr>\n",
       "    <tr>\n",
       "      <th>1715</th>\n",
       "      <td>Timecop</td>\n",
       "      <td>Peter Hyams</td>\n",
       "      <td>[thriller, sciencefiction, action]</td>\n",
       "    </tr>\n",
       "    <tr>\n",
       "      <th>4124</th>\n",
       "      <td>This Thing of Ours</td>\n",
       "      <td>Danny Provenzano</td>\n",
       "      <td>[drama, action, thriller]</td>\n",
       "    </tr>\n",
       "    <tr>\n",
       "      <th>3311</th>\n",
       "      <td>Thank You for Smoking</td>\n",
       "      <td>Jason Reitman</td>\n",
       "      <td>[comedy, drama]</td>\n",
       "    </tr>\n",
       "    <tr>\n",
       "      <th>3033</th>\n",
       "      <td>The Corruptor</td>\n",
       "      <td>James Foley</td>\n",
       "      <td>[action, crime, mystery]</td>\n",
       "    </tr>\n",
       "    <tr>\n",
       "      <th>588</th>\n",
       "      <td>Wall Street: Money Never Sleeps</td>\n",
       "      <td>Oliver Stone</td>\n",
       "      <td>[drama, crime]</td>\n",
       "    </tr>\n",
       "    <tr>\n",
       "      <th>2136</th>\n",
       "      <td>Team America: World Police</td>\n",
       "      <td>Trey Parker</td>\n",
       "      <td>[music, adventure, animation]</td>\n",
       "    </tr>\n",
       "    <tr>\n",
       "      <th>1468</th>\n",
       "      <td>The Fountain</td>\n",
       "      <td>Darren Aronofsky</td>\n",
       "      <td>[drama, adventure, sciencefiction]</td>\n",
       "    </tr>\n",
       "    <tr>\n",
       "      <th>1286</th>\n",
       "      <td>Snowpiercer</td>\n",
       "      <td>Bong Joon-ho</td>\n",
       "      <td>[action, sciencefiction, drama]</td>\n",
       "    </tr>\n",
       "  </tbody>\n",
       "</table>\n",
       "</div>"
      ],
      "text/plain": [
       "                                title         director_  \\\n",
       "7             Avengers: Age of Ultron       Joss Whedon   \n",
       "3144                          Plastic     Julian Gilbey   \n",
       "1715                          Timecop       Peter Hyams   \n",
       "4124               This Thing of Ours  Danny Provenzano   \n",
       "3311            Thank You for Smoking     Jason Reitman   \n",
       "3033                    The Corruptor       James Foley   \n",
       "588   Wall Street: Money Never Sleeps      Oliver Stone   \n",
       "2136       Team America: World Police       Trey Parker   \n",
       "1468                     The Fountain  Darren Aronofsky   \n",
       "1286                      Snowpiercer      Bong Joon-ho   \n",
       "\n",
       "                                   genres  \n",
       "7     [action, adventure, sciencefiction]  \n",
       "3144              [drama, action, comedy]  \n",
       "1715   [thriller, sciencefiction, action]  \n",
       "4124            [drama, action, thriller]  \n",
       "3311                      [comedy, drama]  \n",
       "3033             [action, crime, mystery]  \n",
       "588                        [drama, crime]  \n",
       "2136        [music, adventure, animation]  \n",
       "1468   [drama, adventure, sciencefiction]  \n",
       "1286      [action, sciencefiction, drama]  "
      ]
     },
     "execution_count": 51,
     "metadata": {},
     "output_type": "execute_result"
    }
   ],
   "source": [
    "df2[['title',\n",
    "     'director_',\n",
    "     'genres']].loc[list(get_recommendations('The Avengers').index)]"
   ]
  },
  {
   "cell_type": "markdown",
   "id": "99099dd9",
   "metadata": {},
   "source": [
    "While our system has done a decent job of finding movies with similar plot descriptions, the quality of recommendations is not that great. \"The Dark Knight Rises\" returns all Batman movies while it is more likely that the people who liked that movie are more inclined to enjoy other Christopher Nolan movies. This is something that cannot be captured by the present system."
   ]
  },
  {
   "cell_type": "markdown",
   "id": "1bbc90bd",
   "metadata": {},
   "source": [
    "### Using Cast, Crew & Keywords for better recommendations"
   ]
  },
  {
   "cell_type": "code",
   "execution_count": 11,
   "id": "c7e0b34b",
   "metadata": {},
   "outputs": [],
   "source": [
    "from ast import literal_eval\n",
    "\n",
    "features = ['cast','crew','keywords','genres']\n",
    "for feature in features:\n",
    "    df2[feature] = df2[feature].apply(literal_eval)"
   ]
  },
  {
   "cell_type": "code",
   "execution_count": 12,
   "id": "861ecfc3",
   "metadata": {},
   "outputs": [],
   "source": [
    "def get_director(x):\n",
    "    \n",
    "    for i in x:\n",
    "        if i['job'] == 'Director':\n",
    "            return i['name']\n",
    "    return np.nan"
   ]
  },
  {
   "cell_type": "code",
   "execution_count": 13,
   "id": "c3589338",
   "metadata": {},
   "outputs": [],
   "source": [
    "def get_list(x):\n",
    "    \n",
    "    if isinstance(x, list):\n",
    "        \n",
    "        names = [i['name'] for i in x]\n",
    "        \n",
    "        if len(names) > 3:\n",
    "            names = names[:3]\n",
    "        return names\n",
    "    \n",
    "    return []"
   ]
  },
  {
   "cell_type": "code",
   "execution_count": 14,
   "id": "225ca3b4",
   "metadata": {},
   "outputs": [],
   "source": [
    "df2['director'] = df2['crew'].apply(get_director)\n",
    "\n",
    "features = ['cast','keywords','genres'] \n",
    "for feature in features:\n",
    "    df2[feature] = df2[feature].apply(get_list)"
   ]
  },
  {
   "cell_type": "code",
   "execution_count": 15,
   "id": "0653c52e",
   "metadata": {},
   "outputs": [
    {
     "data": {
      "text/html": [
       "<div>\n",
       "<style scoped>\n",
       "    .dataframe tbody tr th:only-of-type {\n",
       "        vertical-align: middle;\n",
       "    }\n",
       "\n",
       "    .dataframe tbody tr th {\n",
       "        vertical-align: top;\n",
       "    }\n",
       "\n",
       "    .dataframe thead th {\n",
       "        text-align: right;\n",
       "    }\n",
       "</style>\n",
       "<table border=\"1\" class=\"dataframe\">\n",
       "  <thead>\n",
       "    <tr style=\"text-align: right;\">\n",
       "      <th></th>\n",
       "      <th>title</th>\n",
       "      <th>cast</th>\n",
       "      <th>director</th>\n",
       "      <th>keywords</th>\n",
       "      <th>genres</th>\n",
       "    </tr>\n",
       "  </thead>\n",
       "  <tbody>\n",
       "    <tr>\n",
       "      <th>0</th>\n",
       "      <td>Avatar</td>\n",
       "      <td>[Sam Worthington, Zoe Saldana, Sigourney Weaver]</td>\n",
       "      <td>James Cameron</td>\n",
       "      <td>[culture clash, future, space war]</td>\n",
       "      <td>[Action, Adventure, Fantasy]</td>\n",
       "    </tr>\n",
       "    <tr>\n",
       "      <th>1</th>\n",
       "      <td>Pirates of the Caribbean: At World's End</td>\n",
       "      <td>[Johnny Depp, Orlando Bloom, Keira Knightley]</td>\n",
       "      <td>Gore Verbinski</td>\n",
       "      <td>[ocean, drug abuse, exotic island]</td>\n",
       "      <td>[Adventure, Fantasy, Action]</td>\n",
       "    </tr>\n",
       "    <tr>\n",
       "      <th>2</th>\n",
       "      <td>Spectre</td>\n",
       "      <td>[Daniel Craig, Christoph Waltz, Léa Seydoux]</td>\n",
       "      <td>Sam Mendes</td>\n",
       "      <td>[spy, based on novel, secret agent]</td>\n",
       "      <td>[Action, Adventure, Crime]</td>\n",
       "    </tr>\n",
       "  </tbody>\n",
       "</table>\n",
       "</div>"
      ],
      "text/plain": [
       "                                      title  \\\n",
       "0                                    Avatar   \n",
       "1  Pirates of the Caribbean: At World's End   \n",
       "2                                   Spectre   \n",
       "\n",
       "                                               cast        director  \\\n",
       "0  [Sam Worthington, Zoe Saldana, Sigourney Weaver]   James Cameron   \n",
       "1     [Johnny Depp, Orlando Bloom, Keira Knightley]  Gore Verbinski   \n",
       "2      [Daniel Craig, Christoph Waltz, Léa Seydoux]      Sam Mendes   \n",
       "\n",
       "                              keywords                        genres  \n",
       "0   [culture clash, future, space war]  [Action, Adventure, Fantasy]  \n",
       "1   [ocean, drug abuse, exotic island]  [Adventure, Fantasy, Action]  \n",
       "2  [spy, based on novel, secret agent]    [Action, Adventure, Crime]  "
      ]
     },
     "execution_count": 15,
     "metadata": {},
     "output_type": "execute_result"
    }
   ],
   "source": [
    "df2[['title','cast','director','keywords','genres']].head(3)"
   ]
  },
  {
   "cell_type": "code",
   "execution_count": 16,
   "id": "d5c0ad29",
   "metadata": {},
   "outputs": [],
   "source": [
    "def clean_data(x):\n",
    "    \n",
    "    if isinstance(x, list):\n",
    "        return [str.lower(i.replace(\" \",\"\")) for i in x]\n",
    "    else:\n",
    "        \n",
    "        if isinstance(x, str):\n",
    "            return str.lower(x.replace(\" \",\"\"))\n",
    "        else:\n",
    "            return \"\"\n"
   ]
  },
  {
   "cell_type": "code",
   "execution_count": 17,
   "id": "c59fe4d8",
   "metadata": {},
   "outputs": [],
   "source": [
    "features = ['cast','keywords','director','genres']\n",
    "\n",
    "for feature in features:\n",
    "    df2[feature] = df2[feature].apply(clean_data)"
   ]
  },
  {
   "cell_type": "code",
   "execution_count": 18,
   "id": "1d60882c",
   "metadata": {},
   "outputs": [
    {
     "data": {
      "text/html": [
       "<div>\n",
       "<style scoped>\n",
       "    .dataframe tbody tr th:only-of-type {\n",
       "        vertical-align: middle;\n",
       "    }\n",
       "\n",
       "    .dataframe tbody tr th {\n",
       "        vertical-align: top;\n",
       "    }\n",
       "\n",
       "    .dataframe thead th {\n",
       "        text-align: right;\n",
       "    }\n",
       "</style>\n",
       "<table border=\"1\" class=\"dataframe\">\n",
       "  <thead>\n",
       "    <tr style=\"text-align: right;\">\n",
       "      <th></th>\n",
       "      <th>title</th>\n",
       "      <th>cast</th>\n",
       "      <th>director</th>\n",
       "      <th>keywords</th>\n",
       "      <th>genres</th>\n",
       "    </tr>\n",
       "  </thead>\n",
       "  <tbody>\n",
       "    <tr>\n",
       "      <th>0</th>\n",
       "      <td>Avatar</td>\n",
       "      <td>[samworthington, zoesaldana, sigourneyweaver]</td>\n",
       "      <td>jamescameron</td>\n",
       "      <td>[cultureclash, future, spacewar]</td>\n",
       "      <td>[action, adventure, fantasy]</td>\n",
       "    </tr>\n",
       "    <tr>\n",
       "      <th>1</th>\n",
       "      <td>Pirates of the Caribbean: At World's End</td>\n",
       "      <td>[johnnydepp, orlandobloom, keiraknightley]</td>\n",
       "      <td>goreverbinski</td>\n",
       "      <td>[ocean, drugabuse, exoticisland]</td>\n",
       "      <td>[adventure, fantasy, action]</td>\n",
       "    </tr>\n",
       "    <tr>\n",
       "      <th>2</th>\n",
       "      <td>Spectre</td>\n",
       "      <td>[danielcraig, christophwaltz, léaseydoux]</td>\n",
       "      <td>sammendes</td>\n",
       "      <td>[spy, basedonnovel, secretagent]</td>\n",
       "      <td>[action, adventure, crime]</td>\n",
       "    </tr>\n",
       "  </tbody>\n",
       "</table>\n",
       "</div>"
      ],
      "text/plain": [
       "                                      title  \\\n",
       "0                                    Avatar   \n",
       "1  Pirates of the Caribbean: At World's End   \n",
       "2                                   Spectre   \n",
       "\n",
       "                                            cast       director  \\\n",
       "0  [samworthington, zoesaldana, sigourneyweaver]   jamescameron   \n",
       "1     [johnnydepp, orlandobloom, keiraknightley]  goreverbinski   \n",
       "2      [danielcraig, christophwaltz, léaseydoux]      sammendes   \n",
       "\n",
       "                           keywords                        genres  \n",
       "0  [cultureclash, future, spacewar]  [action, adventure, fantasy]  \n",
       "1  [ocean, drugabuse, exoticisland]  [adventure, fantasy, action]  \n",
       "2  [spy, basedonnovel, secretagent]    [action, adventure, crime]  "
      ]
     },
     "execution_count": 18,
     "metadata": {},
     "output_type": "execute_result"
    }
   ],
   "source": [
    "df2[['title','cast','director','keywords','genres']].head(3)"
   ]
  },
  {
   "cell_type": "markdown",
   "id": "c9cb330d",
   "metadata": {},
   "source": [
    "We are now in a position to create our **metadata soup**, which is a string that contains all the metadata that we want to feed to our vectorizer (namely actors, director and keywords)."
   ]
  },
  {
   "cell_type": "code",
   "execution_count": 19,
   "id": "cea3cf65",
   "metadata": {},
   "outputs": [],
   "source": [
    "def create_soup(x):\n",
    "    \n",
    "    return ' '.join(x['keywords']) + ' ' + ' '.join(x['cast']) + ' ' + x['director'] + ' ' + x['director'] + ' ' + x['director'] + ' ' + ' '.join(x['genres'])\n",
    "\n",
    "df2['soup'] = df2.apply(create_soup,\n",
    "                        axis = 1)"
   ]
  },
  {
   "cell_type": "markdown",
   "id": "861b0fb1",
   "metadata": {},
   "source": [
    "The next steps are the same as what we did with our plot description based recommender. One important difference is that we use the **CountVectorizer()** instead of TF-IDF. This is because we do not want to down-weight the presence of an actor/director if he or she has acted or directed in relatively more movies. It doesn't make much intuitive sense."
   ]
  },
  {
   "cell_type": "code",
   "execution_count": 20,
   "id": "57320eee",
   "metadata": {},
   "outputs": [],
   "source": [
    "from sklearn.feature_extraction.text import CountVectorizer\n",
    "\n",
    "count = CountVectorizer(stop_words='english')\n",
    "count_matrix = count.fit_transform(df2['soup'])"
   ]
  },
  {
   "cell_type": "code",
   "execution_count": 21,
   "id": "8c036d09",
   "metadata": {},
   "outputs": [
    {
     "name": "stdout",
     "output_type": "stream",
     "text": [
      "Count Matrix Shape : (4803, 11520)\n"
     ]
    }
   ],
   "source": [
    "print(\"Count Matrix Shape : {}\".format(count_matrix.shape))"
   ]
  },
  {
   "cell_type": "code",
   "execution_count": 22,
   "id": "62dad532",
   "metadata": {},
   "outputs": [
    {
     "name": "stdout",
     "output_type": "stream",
     "text": [
      "shape of cosine_sim matrix : 4803,4803\n"
     ]
    }
   ],
   "source": [
    "from sklearn.metrics.pairwise import cosine_similarity\n",
    "\n",
    "cosine_sim2 = cosine_similarity(count_matrix, count_matrix)\n",
    "print(\"shape of cosine_sim matrix : {},{}\".format(len(cosine_sim2),len(cosine_sim2)))"
   ]
  },
  {
   "cell_type": "code",
   "execution_count": 23,
   "id": "b67833b7",
   "metadata": {},
   "outputs": [],
   "source": [
    "df2 = df2.reset_index()\n",
    "indices = pd.Series(df2.index,\n",
    "                    index = df2['title'])"
   ]
  },
  {
   "cell_type": "code",
   "execution_count": 30,
   "id": "1191edb9",
   "metadata": {},
   "outputs": [],
   "source": [
    "recommended_index = list(get_recommendations('The Dark Knight Rises',\n",
    "                    cosine_sim2).index)"
   ]
  },
  {
   "cell_type": "code",
   "execution_count": 37,
   "id": "5b4b1b18",
   "metadata": {},
   "outputs": [],
   "source": [
    "df2['director_'] = df2['crew'].apply(get_director)"
   ]
  },
  {
   "cell_type": "code",
   "execution_count": 55,
   "id": "1aed636f",
   "metadata": {},
   "outputs": [
    {
     "data": {
      "text/html": [
       "<div>\n",
       "<style scoped>\n",
       "    .dataframe tbody tr th:only-of-type {\n",
       "        vertical-align: middle;\n",
       "    }\n",
       "\n",
       "    .dataframe tbody tr th {\n",
       "        vertical-align: top;\n",
       "    }\n",
       "\n",
       "    .dataframe thead th {\n",
       "        text-align: right;\n",
       "    }\n",
       "</style>\n",
       "<table border=\"1\" class=\"dataframe\">\n",
       "  <thead>\n",
       "    <tr style=\"text-align: right;\">\n",
       "      <th></th>\n",
       "      <th>title</th>\n",
       "      <th>director_</th>\n",
       "      <th>genres</th>\n",
       "    </tr>\n",
       "  </thead>\n",
       "  <tbody>\n",
       "    <tr>\n",
       "      <th>65</th>\n",
       "      <td>The Dark Knight</td>\n",
       "      <td>Christopher Nolan</td>\n",
       "      <td>[drama, action, crime]</td>\n",
       "    </tr>\n",
       "    <tr>\n",
       "      <th>119</th>\n",
       "      <td>Batman Begins</td>\n",
       "      <td>Christopher Nolan</td>\n",
       "      <td>[action, crime, drama]</td>\n",
       "    </tr>\n",
       "    <tr>\n",
       "      <th>1196</th>\n",
       "      <td>The Prestige</td>\n",
       "      <td>Christopher Nolan</td>\n",
       "      <td>[drama, mystery, thriller]</td>\n",
       "    </tr>\n",
       "    <tr>\n",
       "      <th>95</th>\n",
       "      <td>Interstellar</td>\n",
       "      <td>Christopher Nolan</td>\n",
       "      <td>[adventure, drama, sciencefiction]</td>\n",
       "    </tr>\n",
       "    <tr>\n",
       "      <th>1033</th>\n",
       "      <td>Insomnia</td>\n",
       "      <td>Christopher Nolan</td>\n",
       "      <td>[crime, mystery, thriller]</td>\n",
       "    </tr>\n",
       "    <tr>\n",
       "      <th>96</th>\n",
       "      <td>Inception</td>\n",
       "      <td>Christopher Nolan</td>\n",
       "      <td>[action, thriller, sciencefiction]</td>\n",
       "    </tr>\n",
       "    <tr>\n",
       "      <th>3573</th>\n",
       "      <td>Memento</td>\n",
       "      <td>Christopher Nolan</td>\n",
       "      <td>[mystery, thriller]</td>\n",
       "    </tr>\n",
       "  </tbody>\n",
       "</table>\n",
       "</div>"
      ],
      "text/plain": [
       "                title          director_                              genres\n",
       "65    The Dark Knight  Christopher Nolan              [drama, action, crime]\n",
       "119     Batman Begins  Christopher Nolan              [action, crime, drama]\n",
       "1196     The Prestige  Christopher Nolan          [drama, mystery, thriller]\n",
       "95       Interstellar  Christopher Nolan  [adventure, drama, sciencefiction]\n",
       "1033         Insomnia  Christopher Nolan          [crime, mystery, thriller]\n",
       "96          Inception  Christopher Nolan  [action, thriller, sciencefiction]\n",
       "3573          Memento  Christopher Nolan                 [mystery, thriller]"
      ]
     },
     "execution_count": 55,
     "metadata": {},
     "output_type": "execute_result"
    }
   ],
   "source": [
    "df2[['title',\n",
    "     'director_',\n",
    "     'genres']].loc[recommended_index][:7]"
   ]
  },
  {
   "cell_type": "code",
   "execution_count": 41,
   "id": "a2260f31",
   "metadata": {},
   "outputs": [],
   "source": [
    "recommended_index2 = list(get_recommendations('The Godfather',\n",
    "                                            cosine_sim2).index)"
   ]
  },
  {
   "cell_type": "code",
   "execution_count": 56,
   "id": "30310d4f",
   "metadata": {},
   "outputs": [
    {
     "data": {
      "text/html": [
       "<div>\n",
       "<style scoped>\n",
       "    .dataframe tbody tr th:only-of-type {\n",
       "        vertical-align: middle;\n",
       "    }\n",
       "\n",
       "    .dataframe tbody tr th {\n",
       "        vertical-align: top;\n",
       "    }\n",
       "\n",
       "    .dataframe thead th {\n",
       "        text-align: right;\n",
       "    }\n",
       "</style>\n",
       "<table border=\"1\" class=\"dataframe\">\n",
       "  <thead>\n",
       "    <tr style=\"text-align: right;\">\n",
       "      <th></th>\n",
       "      <th>title</th>\n",
       "      <th>director_</th>\n",
       "      <th>genres</th>\n",
       "    </tr>\n",
       "  </thead>\n",
       "  <tbody>\n",
       "    <tr>\n",
       "      <th>867</th>\n",
       "      <td>The Godfather: Part III</td>\n",
       "      <td>Francis Ford Coppola</td>\n",
       "      <td>[crime, drama, thriller]</td>\n",
       "    </tr>\n",
       "    <tr>\n",
       "      <th>2731</th>\n",
       "      <td>The Godfather: Part II</td>\n",
       "      <td>Francis Ford Coppola</td>\n",
       "      <td>[drama, crime]</td>\n",
       "    </tr>\n",
       "    <tr>\n",
       "      <th>1525</th>\n",
       "      <td>Apocalypse Now</td>\n",
       "      <td>Francis Ford Coppola</td>\n",
       "      <td>[drama, war]</td>\n",
       "    </tr>\n",
       "    <tr>\n",
       "      <th>1018</th>\n",
       "      <td>The Cotton Club</td>\n",
       "      <td>Francis Ford Coppola</td>\n",
       "      <td>[music, drama, crime]</td>\n",
       "    </tr>\n",
       "    <tr>\n",
       "      <th>1209</th>\n",
       "      <td>The Rainmaker</td>\n",
       "      <td>Francis Ford Coppola</td>\n",
       "      <td>[drama, crime, thriller]</td>\n",
       "    </tr>\n",
       "    <tr>\n",
       "      <th>3012</th>\n",
       "      <td>The Outsiders</td>\n",
       "      <td>Francis Ford Coppola</td>\n",
       "      <td>[crime, drama]</td>\n",
       "    </tr>\n",
       "    <tr>\n",
       "      <th>4209</th>\n",
       "      <td>The Conversation</td>\n",
       "      <td>Francis Ford Coppola</td>\n",
       "      <td>[crime, drama, mystery]</td>\n",
       "    </tr>\n",
       "  </tbody>\n",
       "</table>\n",
       "</div>"
      ],
      "text/plain": [
       "                        title             director_                    genres\n",
       "867   The Godfather: Part III  Francis Ford Coppola  [crime, drama, thriller]\n",
       "2731   The Godfather: Part II  Francis Ford Coppola            [drama, crime]\n",
       "1525           Apocalypse Now  Francis Ford Coppola              [drama, war]\n",
       "1018          The Cotton Club  Francis Ford Coppola     [music, drama, crime]\n",
       "1209            The Rainmaker  Francis Ford Coppola  [drama, crime, thriller]\n",
       "3012            The Outsiders  Francis Ford Coppola            [crime, drama]\n",
       "4209         The Conversation  Francis Ford Coppola   [crime, drama, mystery]"
      ]
     },
     "execution_count": 56,
     "metadata": {},
     "output_type": "execute_result"
    }
   ],
   "source": [
    "df2[['title',\n",
    "     'director_',\n",
    "     'genres']].loc[recommended_index2][:7]"
   ]
  },
  {
   "cell_type": "code",
   "execution_count": null,
   "id": "4e58f026",
   "metadata": {},
   "outputs": [],
   "source": []
  }
 ],
 "metadata": {
  "kernelspec": {
   "display_name": "Python 3 (ipykernel)",
   "language": "python",
   "name": "python3"
  },
  "language_info": {
   "codemirror_mode": {
    "name": "ipython",
    "version": 3
   },
   "file_extension": ".py",
   "mimetype": "text/x-python",
   "name": "python",
   "nbconvert_exporter": "python",
   "pygments_lexer": "ipython3",
   "version": "3.9.6"
  }
 },
 "nbformat": 4,
 "nbformat_minor": 5
}
